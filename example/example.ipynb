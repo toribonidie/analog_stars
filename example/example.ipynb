{
 "cells": [
  {
   "cell_type": "code",
   "execution_count": 45,
   "metadata": {},
   "outputs": [],
   "source": [
    "import numpy as np\n",
    "import pandas as pd\n",
    "import os\n",
    "import sys\n",
    "import matplotlib.pyplot as plt\n",
    "import time\n",
    "\n",
    "sys.path.insert(0, os.path.abspath('/Users/ToriBonidie/Desktop/research/packages/analog_stars/'))\n",
    "from select_analogs import select_analogs\n",
    "from analog_auto import analog_auto"
   ]
  },
  {
   "cell_type": "code",
   "execution_count": 46,
   "metadata": {},
   "outputs": [
    {
     "name": "stderr",
     "output_type": "stream",
     "text": [
      "/Users/ToriBonidie/opt/anaconda3/lib/python3.8/site-packages/IPython/core/interactiveshell.py:3146: DtypeWarning: Columns (2) have mixed types.Specify dtype option on import or set low_memory=False.\n",
      "  has_raised = await self.run_ast_nodes(code_ast.body, cell_name,\n"
     ]
    }
   ],
   "source": [
    "#reading in the MW stars and Sgr stars dataframes\n",
    "path = '/Users/ToriBonidie/Desktop/research/packages/analog_stars/'\n",
    "MW_stars = pd.read_csv(path + 'MW_stars.csv')\n",
    "sgr_stars = pd.read_csv(path + 'sgr_stars.csv')\n",
    "\n",
    "#reading in a file containing the mean and standard deviation of the three parameters\n",
    "sgr_stats = pd.read_csv(path + 'sgr_stats.csv', header=0, index_col = 0)"
   ]
  },
  {
   "cell_type": "code",
   "execution_count": 47,
   "metadata": {},
   "outputs": [
    {
     "name": "stdout",
     "output_type": "stream",
     "text": [
      "elapsed time: 5.131 minutes\n"
     ]
    }
   ],
   "source": [
    "# this probably isn't very efficient lol and it takes a while\n",
    "start_time = time.time()\n",
    "match_params = ['[Fe/H]', 'Teff', 'log(g)']\n",
    "for n in range(len(sgr_stars)):\n",
    "    analog_idx = select_analogs(MW_stars, sgr_stars, sgr_stats, n_star = n, max_sigma=1, n_neighbors=20, n_analogs=100, params = match_params)      \n",
    "    for i, index in enumerate(analog_idx[0]):\n",
    "        # If for the first twin of the first planet cand, initiate the dataframe\n",
    "        if (n == 0) and (i == 0):\n",
    "            twins = MW_stars[index:index+1]\n",
    "        else:\n",
    "            twins = pd.concat([twins, MW_stars[index:index+1]])\n",
    "end_time = time.time()\n",
    "print('elapsed time: ' + str(round(float((end_time - start_time)/60), 3)) + ' minutes')\n"
   ]
  },
  {
   "cell_type": "code",
   "execution_count": 61,
   "metadata": {},
   "outputs": [
    {
     "data": {
      "text/plain": [
       "<matplotlib.legend.Legend at 0x7faee37d6b50>"
      ]
     },
     "execution_count": 61,
     "metadata": {},
     "output_type": "execute_result"
    },
    {
     "data": {
      "image/png": "[encoded data removed]",
      "text/plain": [
       "<Figure size 1080x360 with 3 Axes>"
      ]
     },
     "metadata": {
      "needs_background": "light"
     },
     "output_type": "display_data"
    }
   ],
   "source": [
    "fig, ax = plt.subplots(1,3)\n",
    "fig.set_size_inches(15,5)\n",
    "\n",
    "teff_bins = np.linspace(3200, 6500, 16)\n",
    "logg_bins = np.linspace(-0.5, 5, 16)\n",
    "feh_bins = np.linspace(-1.5, 0.75, 16)\n",
    "  \n",
    "teff_hist1, _ = np.histogram(MW_stars['Teff'], teff_bins)\n",
    "teff_hist2, _ = np.histogram(sgr_stars['Teff'], teff_bins)\n",
    "teff_hist3, _ = np.histogram(twins['Teff'], teff_bins)\n",
    "logg_hist1, _ = np.histogram(MW_stars['log(g)'], logg_bins)\n",
    "logg_hist2, _ = np.histogram(sgr_stars['log(g)'], logg_bins)\n",
    "logg_hist3, _ = np.histogram(twins['log(g)'], logg_bins)\n",
    "feh_hist1, _ = np.histogram(MW_stars['[Fe/H]'], feh_bins)\n",
    "feh_hist2, _ = np.histogram(sgr_stars['[Fe/H]'], feh_bins)\n",
    "feh_hist3, _ = np.histogram(twins['[Fe/H]'], feh_bins)\n",
    "  \n",
    "teff_ws1 = np.ones(len(MW_stars['Teff']))/float(np.max(teff_hist1))\n",
    "teff_ws2 = np.ones(len(sgr_stars['Teff']))/float(np.max(teff_hist2))\n",
    "teff_ws3 = np.ones(len(twins['Teff']))/float(np.max(teff_hist3))\n",
    "logg_ws1 = np.ones(len(MW_stars['log(g)']))/float(np.max(logg_hist1))\n",
    "logg_ws2 = np.ones(len(sgr_stars['log(g)']))/float(np.max(logg_hist2))\n",
    "logg_ws3 = np.ones(len(twins['log(g)']))/float(np.max(logg_hist3))\n",
    "feh_ws1 = np.ones(len(MW_stars['[Fe/H]']))/float(np.max(feh_hist1))\n",
    "feh_ws2 = np.ones(len(sgr_stars['[Fe/H]']))/float(np.max(feh_hist2))\n",
    "feh_ws3 = np.ones(len(twins['[Fe/H]']))/float(np.max(feh_hist3))\n",
    "\n",
    "\n",
    "ax[0].hist(MW_stars['Teff'], bins=teff_bins, weights=teff_ws1, histtype='step', color='blue', alpha = 0.5, linewidth=1.2, label = 'MW Stars')\n",
    "ax[0].hist(sgr_stars['Teff'], bins=teff_bins, weights=teff_ws2,histtype='step', color='red', linewidth=1.2, label = 'Sgr Stars')\n",
    "ax[0].hist(twins['Teff'], bins=teff_bins, weights=teff_ws3,histtype='step', color='purple', linewidth=1.2, label = 'analogs')\n",
    "\n",
    "ax[1].hist(MW_stars['log(g)'], bins=logg_bins, weights=logg_ws1, histtype='step', color='blue', alpha = 0.5, linewidth=1.2, label = 'MW Stars')\n",
    "ax[1].hist(sgr_stars['log(g)'], bins=logg_bins, weights=logg_ws2,histtype='step', color='red', linewidth=1.2, label = 'Sgr Stars')\n",
    "ax[1].hist(twins['log(g)'], bins=logg_bins, weights=logg_ws3,histtype='step', color='purple', linewidth=1.2, label = 'analogs')\n",
    "\n",
    "\n",
    "ax[2].hist(MW_stars['[Fe/H]'], bins=feh_bins, weights=feh_ws1, histtype='step', color='blue', alpha = 0.5, linewidth=1.2, label = 'MW Stars')\n",
    "ax[2].hist(sgr_stars['[Fe/H]'], bins=feh_bins, weights=feh_ws2,histtype='step', color='red', linewidth=1.2, label = 'Sgr Stars')\n",
    "ax[2].hist(twins['[Fe/H]'], bins=feh_bins, weights=feh_ws3,histtype='step', color='purple', linewidth=1.2, label = 'analogs')\n",
    "\n",
    "\n",
    "ax[0].set_xlabel('Teff')\n",
    "ax[1].set_xlabel('log(g)')\n",
    "ax[2].set_xlabel('[Fe/H]')\n",
    "ax[0].set_ylabel('N/Nmax')\n",
    "ax[1].set_ylabel('N/Nmax')\n",
    "ax[2].set_ylabel('N/Nmax')\n",
    "ax[0].legend(loc='upper right')\n",
    "ax[1].legend(loc='upper right')\n",
    "ax[2].legend(loc='upper right')\n"
   ]
  },
  {
   "cell_type": "code",
   "execution_count": null,
   "metadata": {},
   "outputs": [],
   "source": []
  }
 ],
 "metadata": {
  "kernelspec": {
   "display_name": "Python 3",
   "language": "python",
   "name": "python3"
  },
  "language_info": {
   "codemirror_mode": {
    "name": "ipython",
    "version": 3
   },
   "file_extension": ".py",
   "mimetype": "text/x-python",
   "name": "python",
   "nbconvert_exporter": "python",
   "pygments_lexer": "ipython3",
   "version": "3.8.5"
  }
 },
 "nbformat": 4,
 "nbformat_minor": 4
}
